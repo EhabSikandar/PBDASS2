{
 "cells": [
  {
   "cell_type": "code",
   "execution_count": 40,
   "id": "86b41a69",
   "metadata": {},
   "outputs": [
    {
     "data": {
      "text/html": [
       "<div>\n",
       "<style scoped>\n",
       "    .dataframe tbody tr th:only-of-type {\n",
       "        vertical-align: middle;\n",
       "    }\n",
       "\n",
       "    .dataframe tbody tr th {\n",
       "        vertical-align: top;\n",
       "    }\n",
       "\n",
       "    .dataframe thead th {\n",
       "        text-align: right;\n",
       "    }\n",
       "</style>\n",
       "<table border=\"1\" class=\"dataframe\">\n",
       "  <thead>\n",
       "    <tr style=\"text-align: right;\">\n",
       "      <th></th>\n",
       "      <th>Data</th>\n",
       "    </tr>\n",
       "  </thead>\n",
       "  <tbody>\n",
       "    <tr>\n",
       "      <th>0</th>\n",
       "      <td>1</td>\n",
       "    </tr>\n",
       "    <tr>\n",
       "      <th>1</th>\n",
       "      <td>11</td>\n",
       "    </tr>\n",
       "    <tr>\n",
       "      <th>2</th>\n",
       "      <td>234</td>\n",
       "    </tr>\n",
       "    <tr>\n",
       "      <th>3</th>\n",
       "      <td>567</td>\n",
       "    </tr>\n",
       "    <tr>\n",
       "      <th>4</th>\n",
       "      <td>69</td>\n",
       "    </tr>\n",
       "    <tr>\n",
       "      <th>5</th>\n",
       "      <td>420</td>\n",
       "    </tr>\n",
       "    <tr>\n",
       "      <th>6</th>\n",
       "      <td>535</td>\n",
       "    </tr>\n",
       "    <tr>\n",
       "      <th>7</th>\n",
       "      <td>345</td>\n",
       "    </tr>\n",
       "    <tr>\n",
       "      <th>8</th>\n",
       "      <td>6</td>\n",
       "    </tr>\n",
       "    <tr>\n",
       "      <th>9</th>\n",
       "      <td>76</td>\n",
       "    </tr>\n",
       "  </tbody>\n",
       "</table>\n",
       "</div>"
      ],
      "text/plain": [
       "   Data\n",
       "0     1\n",
       "1    11\n",
       "2   234\n",
       "3   567\n",
       "4    69\n",
       "5   420\n",
       "6   535\n",
       "7   345\n",
       "8     6\n",
       "9    76"
      ]
     },
     "execution_count": 40,
     "metadata": {},
     "output_type": "execute_result"
    }
   ],
   "source": [
    "import pandas as pd\n",
    "import matplotlib.pyplot as plt \n",
    "x=pd.read_csv(\"Book1.csv\",header=None)\n",
    "head=[\"Data\",]\n",
    "x.columns=head\n",
    "x"
   ]
  },
  {
   "cell_type": "code",
   "execution_count": 41,
   "id": "371c7103",
   "metadata": {},
   "outputs": [
    {
     "data": {
      "image/png": "[encoded data removed]",
      "text/plain": [
       "<Figure size 432x288 with 1 Axes>"
      ]
     },
     "metadata": {
      "needs_background": "light"
     },
     "output_type": "display_data"
    }
   ],
   "source": [
    "plt.plot(x,color=\"none\",marker=\"o\",markerfacecolor=\"purple\")\n",
    "plt.title(\"Data\")\n",
    "plt.show()\n",
    "#this here is a visualization of unclustered DATA taken from the csv file"
   ]
  },
  {
   "cell_type": "code",
   "execution_count": 42,
   "id": "d9d27b8e",
   "metadata": {},
   "outputs": [
    {
     "data": {
      "image/png": "[encoded data removed]",
      "text/plain": [
       "<Figure size 432x288 with 1 Axes>"
      ]
     },
     "metadata": {
      "needs_background": "light"
     },
     "output_type": "display_data"
    }
   ],
   "source": [
    "#now we are going to be assigning 2 centroids randomly \n",
    "centroid1=69\n",
    "centroid2=420\n",
    "plt.plot(x,color=\"None\",marker=\"o\",markerfacecolor=\"purple\")\n",
    "plt.plot(5,5,marker=\"o\",markerfacecolor=\"blue\", markersize=10)\n",
    "plt.plot(9,76,marker=\"o\",markerfacecolor=\"blue\", markersize=10)\n",
    "plt.title(\"DATA with centroids\")\n",
    "plt.show()"
   ]
  },
  {
   "cell_type": "code",
   "execution_count": 43,
   "id": "27b9655a",
   "metadata": {},
   "outputs": [
    {
     "name": "stdout",
     "output_type": "stream",
     "text": [
      "c1  69 c2  420 \n",
      "\n",
      "temp c1  66.16666666666667 temp_c2 466.75 \n",
      "\n",
      "c1  66.16666666666667 c2  466.75 \n",
      "\n"
     ]
    }
   ],
   "source": [
    "#making 2 clusters.\n",
    "cluster1=[]\n",
    "cluster2=[]\n",
    "temp_c1=0\n",
    "temp_c2=0\n",
    "while(centroid1!=temp_c1 and centroid2!=temp_c2):\n",
    "    sum=0\n",
    "    cluster1=[]\n",
    "    cluster2=[]\n",
    "    for v in x[\"Data\"]:\n",
    "        d1=v-centroid1\n",
    "        d2=v-centroid2\n",
    "        if(d1<0):\n",
    "            d1=d1*-1\n",
    "        if(d2<0):\n",
    "            d2=d2*-1\n",
    "        #the grouping part\n",
    "        if(d1==d2):\n",
    "            if(len(cluster1)<len(cluster2)):\n",
    "                cluster1=cluster1+[v]\n",
    "            else:\n",
    "                cluster2=cluster2+[v]\n",
    "        elif(d1<d2):\n",
    "            cluster1=cluster1+[v]\n",
    "        else:\n",
    "            cluster2=cluster2+[v]\n",
    "    #after the clusters are filled with data points from the data set. we will find new centroids by taking average.\n",
    "    for k in cluster1:\n",
    "        sum=sum+k\n",
    "    if(len(cluster1)>0):\n",
    "        temp_c1=sum/len(cluster1)\n",
    "    else:\n",
    "        temp_c1=0\n",
    "    sum=0\n",
    "    for k in cluster2:\n",
    "        sum=sum+k\n",
    "    if(len(cluster2)>0):\n",
    "        temp_c2=sum/len(cluster2)\n",
    "    else:\n",
    "        temp_c2=0\n",
    "    #4th step checking whether to update or not\n",
    "    if(temp_c1==centroid1 and temp_c2==centroid2):\n",
    "        print(\"c1 \",centroid1,\"c2 \",centroid2,\"\\n\")\n",
    "        break\n",
    "    else:\n",
    "        print(\"c1 \",centroid1 ,\"c2 \",centroid2,\"\\n\")\n",
    "        print(\"temp c1 \",temp_c1,\"temp_c2\",temp_c2,\"\\n\")\n",
    "        centroid1=temp_c1\n",
    "        centroid2=temp_c2\n",
    "        temp_c1=-1\n",
    "        temp_c2=-1"
   ]
  },
  {
   "cell_type": "code",
   "execution_count": 44,
   "id": "c3d4cc49",
   "metadata": {},
   "outputs": [
    {
     "name": "stdout",
     "output_type": "stream",
     "text": [
      "[1, 11, 234, 69, 6, 76]\n"
     ]
    }
   ],
   "source": [
    "print(cluster1)"
   ]
  },
  {
   "cell_type": "code",
   "execution_count": 45,
   "id": "61d99af3",
   "metadata": {},
   "outputs": [
    {
     "name": "stdout",
     "output_type": "stream",
     "text": [
      "[567, 420, 535, 345]\n"
     ]
    }
   ],
   "source": [
    "print(cluster2)"
   ]
  },
  {
   "cell_type": "code",
   "execution_count": 46,
   "id": "ed0c1c97",
   "metadata": {},
   "outputs": [
    {
     "data": {
      "image/png": "[encoded data removed]",
      "text/plain": [
       "<Figure size 432x288 with 1 Axes>"
      ]
     },
     "metadata": {
      "needs_background": "light"
     },
     "output_type": "display_data"
    }
   ],
   "source": [
    "plt.plot(cluster1,color=\"None\",marker=\"o\",markerfacecolor=\"red\", markersize=6)\n",
    "plt.plot(cluster2,color=\"None\",marker=\"o\",markerfacecolor=\"blue\", markersize=6)\n",
    "plt.title(\"DATA with Clusters\")\n",
    "plt.show()\n"
   ]
  },
  {
   "cell_type": "code",
   "execution_count": null,
   "id": "ca3ae2ad",
   "metadata": {},
   "outputs": [],
   "source": []
  },
  {
   "cell_type": "code",
   "execution_count": null,
   "id": "0fa60fee",
   "metadata": {},
   "outputs": [],
   "source": []
  }
 ],
 "metadata": {
  "kernelspec": {
   "display_name": "Python 3 (ipykernel)",
   "language": "python",
   "name": "python3"
  },
  "language_info": {
   "codemirror_mode": {
    "name": "ipython",
    "version": 3
   },
   "file_extension": ".py",
   "mimetype": "text/x-python",
   "name": "python",
   "nbconvert_exporter": "python",
   "pygments_lexer": "ipython3",
   "version": "3.9.7"
  }
 },
 "nbformat": 4,
 "nbformat_minor": 5
}
